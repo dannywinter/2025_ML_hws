{
  "nbformat": 4,
  "nbformat_minor": 0,
  "metadata": {
    "colab": {
      "provenance": [],
      "authorship_tag": "ABX9TyOBnsbXRDgqMns2uK7SNfdv",
      "include_colab_link": true
    },
    "kernelspec": {
      "name": "python3",
      "display_name": "Python 3"
    },
    "language_info": {
      "name": "python"
    }
  },
  "cells": [
    {
      "cell_type": "markdown",
      "metadata": {
        "id": "view-in-github",
        "colab_type": "text"
      },
      "source": [
        "<a href=\"https://colab.research.google.com/github/dannywinter/2025_ML_hws/blob/main/hw2.ipynb\" target=\"_parent\"><img src=\"https://colab.research.google.com/assets/colab-badge.svg\" alt=\"Open In Colab\"/></a>"
      ]
    },
    {
      "cell_type": "code",
      "execution_count": 3,
      "metadata": {
        "id": "woi5c0VEsJev"
      },
      "outputs": [],
      "source": [
        "import numpy as np\n",
        "\n",
        "def relu(x):\n",
        "    return np.maximum(0, x)\n",
        "\n",
        "def sigmoid(x):\n",
        "    return 1/(1+np.exp(-x))\n",
        "\n",
        "def softmax_0(x):\n",
        "    c=np.max(x)\n",
        "    x = x - c\n",
        "    return np.exp(x) / np.sum(np.exp(x))\n",
        "\n",
        "def cross_entropy_error(y, t):\n",
        "    if y.ndim == 1:\n",
        "        t = t.reshape(1, t.size)\n",
        "        y = y.reshape(1, y.size)\n",
        "\n",
        "    batch_size = y.shape[0]\n",
        "    return -np.sum(t * np.log(y + 1e-7)) / batch_size\n"
      ]
    },
    {
      "cell_type": "code",
      "source": [
        "# 五筆輸入資料 (X) 與真實標籤 (Y)\n",
        "X = np.array([\n",
        "    [0.5, 0.8, 0.2, 0.9, 0.3, 0.7],\n",
        "    [0.1, 0.2, 0.3, 0.4, 0.5, 0.6],\n",
        "    [0.6, 0.5, 0.4, 0.3, 0.2, 0.1],\n",
        "    [0.9, 0.8, 0.7, 0.6, 0.5, 0.4],\n",
        "    [0.3, 0.2, 0.1, 0.6, 0.5, 0.4]\n",
        "])  # shape = (5, 6)\n",
        "\n",
        "Y = np.array([\n",
        "    [0, 0, 1],\n",
        "    [1, 0, 0],\n",
        "    [0, 1, 0],\n",
        "    [1, 0, 0],\n",
        "    [0, 1, 0]\n",
        "])  # shape = (5, 3)\n",
        "\n",
        "print(\"X shape:\", X.shape)\n",
        "print(\"Y shape:\", Y.shape)\n"
      ],
      "metadata": {
        "colab": {
          "base_uri": "https://localhost:8080/"
        },
        "id": "uxpi-aGCsspO",
        "outputId": "6bf22e45-744d-49c4-a4ba-06d3c948d352"
      },
      "execution_count": 4,
      "outputs": [
        {
          "output_type": "stream",
          "name": "stdout",
          "text": [
            "X shape: (5, 6)\n",
            "Y shape: (5, 3)\n"
          ]
        }
      ]
    },
    {
      "cell_type": "code",
      "source": [
        "# Layer 1: 6 → 5\n",
        "W1 = np.array([\n",
        "    [0.1, 0.2, 0.3, 0.4, 0.5],\n",
        "    [0.5, 0.4, 0.3, 0.2, 0.1],\n",
        "    [0.6, 0.7, 0.8, 0.9, 0.1],\n",
        "    [0.1, 0.3, 0.5, 0.7, 0.9],\n",
        "    [0.9, 0.8, 0.7, 0.6, 0.5],\n",
        "    [0.4, 0.3, 0.2, 0.1, 0.0]\n",
        "])  # (6,5)\n",
        "b1 = np.array([0.1, 0.1, 0.1, 0.1, 0.1])\n",
        "\n",
        "# Layer 2: 5 → 4\n",
        "W2 = np.array([\n",
        "    [0.2, 0.1, 0.4, 0.3],\n",
        "    [0.5, 0.6, 0.7, 0.8],\n",
        "    [0.1, 0.3, 0.5, 0.7],\n",
        "    [0.9, 0.7, 0.5, 0.3],\n",
        "    [0.3, 0.2, 0.1, 0.4]\n",
        "])  # (5,4)\n",
        "b2 = np.array([0.2, 0.2, 0.2, 0.2])\n",
        "\n",
        "# Layer 3: 4 → 4\n",
        "W3 = np.array([\n",
        "    [0.1, 0.2, 0.3, 0.4],\n",
        "    [0.5, 0.4, 0.3, 0.2],\n",
        "    [0.6, 0.7, 0.8, 0.9],\n",
        "    [0.9, 0.8, 0.7, 0.6]\n",
        "])  # (4,4)\n",
        "b3 = np.array([0.3, 0.3, 0.3, 0.3])\n",
        "\n",
        "# Layer 4: 4 → 3\n",
        "W4 = np.array([\n",
        "    [0.1, 0.2, 0.3],\n",
        "    [0.4, 0.3, 0.2],\n",
        "    [0.5, 0.6, 0.7],\n",
        "    [0.8, 0.9, 0.1]\n",
        "])  # (4,3)\n",
        "b4 = np.array([0.1, 0.1, 0.1])\n"
      ],
      "metadata": {
        "id": "QseMjLL_sudU"
      },
      "execution_count": 5,
      "outputs": []
    },
    {
      "cell_type": "code",
      "source": [
        "# Layer 1\n",
        "z1 = np.dot(X, W1) + b1  # shape: (5, 5)\n",
        "h1 = relu(z1)\n",
        "\n",
        "# Layer 2\n",
        "z2 = np.dot(h1, W2) + b2  # shape: (5, 4)\n",
        "h2 = relu(z2)\n",
        "\n",
        "# Layer 3\n",
        "z3 = np.dot(h2, W3) + b3  # shape: (5, 4)\n",
        "h3 = sigmoid(z3)\n",
        "\n",
        "# Layer 4\n",
        "z4 = np.dot(h3, W4) + b4  # shape: (5, 3)\n",
        "y_hat = softmax_0(z4)\n",
        "\n",
        "# 顯示結果與形狀\n",
        "print(\"z1:\", z1.shape, \"\\nh1:\", h1.shape)\n",
        "print(\"z2:\", z2.shape, \"\\nh2:\", h2.shape)\n",
        "print(\"z3:\", z3.shape, \"\\nh3:\", h3.shape)\n",
        "print(\"z4:\", z4.shape, \"\\ny_hat:\", y_hat.shape)\n",
        "print(\"y_hat:\\n\", y_hat)\n"
      ],
      "metadata": {
        "colab": {
          "base_uri": "https://localhost:8080/"
        },
        "id": "pP7Fq9u3svs5",
        "outputId": "02b0d708-8161-4ec4-80a0-5e9b423eec9c"
      },
      "execution_count": 6,
      "outputs": [
        {
          "output_type": "stream",
          "name": "stdout",
          "text": [
            "z1: (5, 5) \n",
            "h1: (5, 5)\n",
            "z2: (5, 4) \n",
            "h2: (5, 4)\n",
            "z3: (5, 4) \n",
            "h3: (5, 4)\n",
            "z4: (5, 3) \n",
            "y_hat: (5, 3)\n",
            "y_hat:\n",
            " [[0.07094194 0.0866378  0.04304261]\n",
            " [0.07061148 0.08618957 0.042899  ]\n",
            " [0.07047699 0.08600721 0.04284047]\n",
            " [0.07100972 0.08672977 0.0430718 ]\n",
            " [0.07055451 0.08611234 0.04287479]]\n"
          ]
        }
      ]
    },
    {
      "cell_type": "code",
      "source": [
        "loss = cross_entropy_error(y_hat, Y)\n",
        "print(\"平均交叉熵誤差 =\", loss)\n"
      ],
      "metadata": {
        "colab": {
          "base_uri": "https://localhost:8080/"
        },
        "id": "-O34CQi-sx92",
        "outputId": "22e86f97-f478-488b-f505-4aeeb8f37979"
      },
      "execution_count": 7,
      "outputs": [
        {
          "output_type": "stream",
          "name": "stdout",
          "text": [
            "平均交叉熵誤差 = 2.6692969934825532\n"
          ]
        }
      ]
    }
  ]
}